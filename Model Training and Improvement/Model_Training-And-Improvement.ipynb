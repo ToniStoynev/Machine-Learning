{
 "cells": [
  {
   "cell_type": "code",
   "execution_count": 1,
   "id": "71e3d01b-83ac-4bac-bca8-ba390c0609f8",
   "metadata": {},
   "outputs": [],
   "source": [
    "%matplotlib inline"
   ]
  },
  {
   "cell_type": "code",
   "execution_count": 2,
   "id": "08caf193-9dee-456f-a937-20a809c069c9",
   "metadata": {},
   "outputs": [],
   "source": [
    "import numpy as np\n",
    "import matplotlib.pyplot as plt\n",
    "import pandas as pd\n",
    "\n",
    "from sklearn.datasets import load_iris\n",
    "from sklearn.linear_model import LogisticRegression\n",
    "from sklearn.linear_model import Ridge\n",
    "from sklearn.linear_model import Lasso\n",
    "from sklearn.linear_model import ElasticNet\n",
    "from sklearn.model_selection import train_test_split"
   ]
  },
  {
   "cell_type": "markdown",
   "id": "15fc6f76-1029-4b36-9dd9-92f5cd679f40",
   "metadata": {},
   "source": [
    "# Linear Regression with Regularization"
   ]
  },
  {
   "cell_type": "markdown",
   "id": "5e55f271-806e-47c2-a744-08d821b4c3c3",
   "metadata": {},
   "source": [
    "### Ridge regression – L2"
   ]
  },
  {
   "cell_type": "code",
   "execution_count": 3,
   "id": "ecc3c5a3-6dce-4815-8b47-788379e0ab6f",
   "metadata": {},
   "outputs": [],
   "source": [
    "model = Ridge(alpha = 0.01)"
   ]
  },
  {
   "cell_type": "markdown",
   "id": "e92bfed9-a9d0-4f61-82a9-2dffd26c0ef5",
   "metadata": {},
   "source": [
    "### LASSO (Least Absolute Shrinkage and Selection Operator) – L1"
   ]
  },
  {
   "cell_type": "code",
   "execution_count": 4,
   "id": "8268b8be-057c-4aa8-be58-f456339d309c",
   "metadata": {},
   "outputs": [],
   "source": [
    "model = Lasso(alpha = 0.01)"
   ]
  },
  {
   "cell_type": "code",
   "execution_count": 5,
   "id": "285992c8-204c-4a58-8e5a-fcdd96acbb95",
   "metadata": {},
   "outputs": [],
   "source": [
    "# Has both regularization terms\n",
    "model = ElasticNet(alpha = 1.0, l1_ratio = 0.5)"
   ]
  },
  {
   "cell_type": "markdown",
   "id": "fd6a51e8-f7df-480e-9fc0-83762e2f6b37",
   "metadata": {},
   "source": [
    "### Visualizing Regularization Parameters"
   ]
  }
 ],
 "metadata": {
  "kernelspec": {
   "display_name": "Python 3 (ipykernel)",
   "language": "python",
   "name": "python3"
  },
  "language_info": {
   "codemirror_mode": {
    "name": "ipython",
    "version": 3
   },
   "file_extension": ".py",
   "mimetype": "text/x-python",
   "name": "python",
   "nbconvert_exporter": "python",
   "pygments_lexer": "ipython3",
   "version": "3.11.7"
  }
 },
 "nbformat": 4,
 "nbformat_minor": 5
}
